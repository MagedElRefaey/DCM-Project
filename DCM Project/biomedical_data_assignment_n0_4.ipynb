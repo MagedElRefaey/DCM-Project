{
  "cells": [
    {
      "cell_type": "code",
      "source": [
        "!pip install pydicom\n"
      ],
      "metadata": {
        "colab": {
          "base_uri": "https://localhost:8080/"
        },
        "id": "8idGdn65ytx9",
        "outputId": "78677ebe-e11b-45c9-8d0d-040f92875097"
      },
      "execution_count": 2,
      "outputs": [
        {
          "output_type": "stream",
          "name": "stdout",
          "text": [
            "Collecting pydicom\n",
            "  Downloading pydicom-3.0.1-py3-none-any.whl.metadata (9.4 kB)\n",
            "Downloading pydicom-3.0.1-py3-none-any.whl (2.4 MB)\n",
            "\u001b[2K   \u001b[90m━━━━━━━━━━━━━━━━━━━━━━━━━━━━━━━━━━━━━━━━\u001b[0m \u001b[32m2.4/2.4 MB\u001b[0m \u001b[31m21.1 MB/s\u001b[0m eta \u001b[36m0:00:00\u001b[0m\n",
            "\u001b[?25hInstalling collected packages: pydicom\n",
            "Successfully installed pydicom-3.0.1\n"
          ]
        }
      ]
    },
    {
      "cell_type": "code",
      "execution_count": 3,
      "metadata": {
        "id": "G1Dc71mIxanb"
      },
      "outputs": [],
      "source": [
        "import pydicom"
      ]
    },
    {
      "cell_type": "code",
      "execution_count": 4,
      "metadata": {
        "id": "KIFpJNcYxanc"
      },
      "outputs": [],
      "source": [
        "from pydicom import dcmread\n"
      ]
    },
    {
      "cell_type": "code",
      "execution_count": 5,
      "metadata": {
        "id": "hOVJQhaFxanc"
      },
      "outputs": [],
      "source": [
        "import pydicom.data"
      ]
    },
    {
      "cell_type": "code",
      "execution_count": 20,
      "metadata": {
        "id": "CDt8OQ2Vxanc"
      },
      "outputs": [],
      "source": [
        "path=r\"/content\""
      ]
    },
    {
      "cell_type": "code",
      "execution_count": 21,
      "metadata": {
        "id": "GEDXm7gExanc"
      },
      "outputs": [],
      "source": [
        "file_name=\"00000002.dcm\""
      ]
    },
    {
      "cell_type": "code",
      "execution_count": 23,
      "metadata": {
        "id": "9LXthkHtxanc"
      },
      "outputs": [],
      "source": [
        "file=pydicom.data.data_manager.get_files(path,file_name)[0]"
      ]
    },
    {
      "cell_type": "code",
      "execution_count": 24,
      "metadata": {
        "id": "lzrD1lSJxanc"
      },
      "outputs": [],
      "source": [
        "ds=pydicom.dcmread(file)"
      ]
    },
    {
      "cell_type": "code",
      "execution_count": 25,
      "metadata": {
        "colab": {
          "base_uri": "https://localhost:8080/"
        },
        "id": "h71KLJDFxand",
        "outputId": "bf2c312e-986a-4f0c-8345-d91b545d062a"
      },
      "outputs": [
        {
          "output_type": "stream",
          "name": "stdout",
          "text": [
            "Dataset.file_meta -------------------------------\n",
            "(0002,0000) File Meta Information Group Length  UL: 200\n",
            "(0002,0001) File Meta Information Version       OB: b'\\x00\\x01'\n",
            "(0002,0002) Media Storage SOP Class UID         UI: Computed Radiography Image Storage\n",
            "(0002,0003) Media Storage SOP Instance UID      UI: 1.2.392.200036.9125.4.0.537874177.151278140.1719838829\n",
            "(0002,0010) Transfer Syntax UID                 UI: Explicit VR Little Endian\n",
            "(0002,0012) Implementation Class UID            UI: 1.2.392.200036.9125.5154.1\n",
            "(0002,0013) Implementation Version Name         SH: 'V2.0B'\n",
            "(0002,0016) Source Application Entity Title     AE: 'MEDIA'\n",
            "-------------------------------------------------\n",
            "(0008,0008) Image Type                          CS: ['DERIVED', 'PRIMARY', 'POST_PROCESSED', '', '', '', '', '', '100000']\n",
            "(0008,0016) SOP Class UID                       UI: Computed Radiography Image Storage\n",
            "(0008,0018) SOP Instance UID                    UI: 1.2.392.200036.9125.4.0.537874177.151278140.1719838829\n",
            "(0008,0020) Study Date                          DA: '20210226'\n",
            "(0008,0021) Series Date                         DA: '20210226'\n",
            "(0008,0022) Acquisition Date                    DA: '20210226'\n",
            "(0008,0023) Content Date                        DA: '20210226'\n",
            "(0008,0030) Study Time                          TM: '193404.000'\n",
            "(0008,0031) Series Time                         TM: '194156.000'\n",
            "(0008,0032) Acquisition Time                    TM: '194156.213'\n",
            "(0008,0033) Content Time                        TM: '194156.338'\n",
            "(0008,0050) Accession Number                    SH: ''\n",
            "(0008,0060) Modality                            CS: 'CR'\n",
            "(0008,0070) Manufacturer                        LO: 'FUJI PHOTO FILM Co., ltd.'\n",
            "(0008,0080) Institution Name                    LO: 'EL SAFWA RADIOLOGY CENTER MADINTY'\n",
            "(0008,0090) Referring Physician's Name          PN: ''\n",
            "(0008,1010) Station Name                        SH: 'CR'\n",
            "(0008,1050) Performing Physician's Name         PN: 'Administrator=???'\n",
            "(0008,1070) Operators' Name                     PN: 'Administrator=???'\n",
            "(0008,1090) Manufacturer's Model Name           LO: 'R-BASE'\n",
            "(0008,2111) Derivation Description              ST: 'G1.2O#0.90+0.43,MCP1.8AM0.4,C*1.0*1.0'\n",
            "(0009,0010) Private Creator                     LO: 'FDMS 1.0'\n",
            "(0009,1005) [Image UID]                         OW: b' \\x0fO\\x01\\t\\x04R<f\\x82\\xa8m'\n",
            "(0009,1006) [Route Image UID]                   OW: b'\\x00\\x00\\x00\\x00\\x00\\x00\\x00\\x00\\x00\\x00\\x00\\x00'\n",
            "(0009,1008) [Image Display Information Version  UL: 0\n",
            "(0009,1009) [Patient Information Version No.]   UL: 0\n",
            "(0009,100C) [Film UID]                          OW: b' \\x0fO\\x01\\t\\x04R<f\\x82\\xa8m'\n",
            "(0009,1010) [Exposure Unit Type Code]           CS: 'EF'\n",
            "(0009,10F0) [Blackening Process Flag]           CS: '00'\n",
            "(0009,10F1) [Processing Information Flag]       ST: '1010'\n",
            "(0010,0010) Patient's Name                      PN: 'XYZ'\n",
            "(0010,0020) Patient ID                          LO: '1744'\n",
            "(0010,0030) Patient's Birth Date                DA: ''\n",
            "(0010,0040) Patient's Sex                       CS: 'F'\n",
            "(0010,1020) Patient's Size                      DS: None\n",
            "(0010,1030) Patient's Weight                    DS: None\n",
            "(0010,4000) Patient Comments                    LT: ''\n",
            "(0018,0010) Contrast/Bolus Agent                LO: ''\n",
            "(0018,0015) Body Part Examined                  CS: 'PELVIS'\n",
            "(0018,1004) Plate ID                            LO: 'a40000008c'\n",
            "(0018,1164) Imager Pixel Spacing                DS: [0.20, 0.20]\n",
            "(0018,1400) Acquisition Device Processing Descr LO: 'LUMBAR SPINE LAT'\n",
            "(0018,1401) Acquisition Device Processing Code  LO: '750C'\n",
            "(0018,1411) Exposure Index                      DS: '857'\n",
            "(0018,1412) Target Exposure Index               DS: '876'\n",
            "(0018,1413) Deviation Index                     DS: '-0.1'\n",
            "(0018,5101) View Position                       CS: ''\n",
            "(0018,6000) Sensitivity                         DS: '679'\n",
            "(0019,0010) Private Creator                     LO: 'FDMS 1.0'\n",
            "(0019,1015) [Kanji Body Part for Exposure]      LO: ''\n",
            "(0019,1032) [Kanji Menu Name]                   LO: ''\n",
            "(0019,1040) [Image Processing Type]             CS: 'RT'\n",
            "(0019,1050) [EDR Mode]                          CS: '0'\n",
            "(0019,1080) [Reading Position Specification]    IS: '0'\n",
            "(0019,1081) [Reading Sensitivity Center]        IS: '0'\n",
            "(0019,1090) [Film Annotation Character String 1 SH: ''\n",
            "(0020,000D) Study Instance UID                  UI: 1.2.392.200036.9125.2.6082130102109168.64964230441.334825\n",
            "(0020,000E) Series Instance UID                 UI: 1.2.392.200036.9125.3.6082130102109168.64964230443.334830\n",
            "(0020,0010) Study ID                            SH: 'undefined'\n",
            "(0020,0011) Series Number                       IS: '5'\n",
            "(0020,0012) Acquisition Number                  IS: '10'\n",
            "(0020,0013) Instance Number                     IS: '5'\n",
            "(0020,0060) Laterality                          CS: ''\n",
            "(0021,0010) Private Creator                     LO: 'FDMS 1.0'\n",
            "(0021,1010) [FCR Image ID]                      CS: 'A010'\n",
            "(0021,1030) [Set No.]                           CS: ''\n",
            "(0021,1040) [Image No. in the Set]              IS: '1'\n",
            "(0021,1050) [Pair Processing Information]       CS: '01000000'\n",
            "(0021,1080) [Equipment Type-Specific Informatio OB: None\n",
            "(0025,0010) Private Creator                     LO: 'FDMS 1.0'\n",
            "(0025,1010) [Relative Light Emission Amount Sk] US: 147\n",
            "(0025,1011) [Term of Correction for Each IP Typ US: 0\n",
            "(0025,1012) [Reading Gain Gp]                   US: 141\n",
            "(0028,0002) Samples per Pixel                   US: 1\n",
            "(0028,0004) Photometric Interpretation          CS: 'MONOCHROME1'\n",
            "(0028,0010) Rows                                US: 2140\n",
            "(0028,0011) Columns                             US: 1760\n",
            "(0028,0030) Pixel Spacing                       DS: [0.20, 0.20]\n",
            "(0028,0100) Bits Allocated                      US: 16\n",
            "(0028,0101) Bits Stored                         US: 10\n",
            "(0028,0102) High Bit                            US: 9\n",
            "(0028,0103) Pixel Representation                US: 0\n",
            "(0028,1050) Window Center                       DS: '512.00000'\n",
            "(0028,1051) Window Width                        DS: '1024.00000'\n",
            "(0028,1052) Rescale Intercept                   DS: '0'\n",
            "(0028,1053) Rescale Slope                       DS: '1'\n",
            "(0028,1054) Rescale Type                        LO: 'US'\n",
            "(0028,2110) Lossy Image Compression             CS: '00'\n",
            "(0029,0010) Private Creator                     LO: 'FDMS 1.0'\n",
            "(0029,1020) [Image Scanning Direction]          CS: '010'\n",
            "(0029,1030) [Extended Reading Size Value]       CS: '04'\n",
            "(0029,1034) [Mag./Reduc. Ratio]                 US: 100\n",
            "(0029,1044) [Line Density Code]                 CS: 'K0'\n",
            "(0029,1050) [Data Compression Code]             CS: '00'\n",
            "(0032,0032) Study Verified Date                 DA: '20210226'\n",
            "(0032,0033) Study Verified Time                 TM: '194319.000'\n",
            "(0032,1032) Requesting Physician                PN: 'Administrator=???'\n",
            "(2010,0010) Image Display Format                ST: 'STANDARD\\\\1,1'\n",
            "(2010,0030) Annotation Display Format ID        CS: 'CR00'\n",
            "(2010,0040) Film Orientation                    CS: 'LANDSCAPE'\n",
            "(2010,0100) Border Density                      CS: 'BLACK'\n",
            "(2010,0140) Trim                                CS: 'NO'\n",
            "(50F1,0010) Private Creator                     LO: 'FDMS 1.0'\n",
            "(50F1,100A) [FNC Parameters]                    ST: 'ACC0.6'\n",
            "(50F1,1010) [Film Output Format]                CS: '10'\n",
            "(50F1,1020) [Image Processing Modification Flag CS: '00'\n",
            "(7FE0,0010) Pixel Data                          OW: Array of 7532800 elements\n"
          ]
        }
      ],
      "source": [
        "print(ds)"
      ]
    },
    {
      "cell_type": "code",
      "execution_count": 26,
      "metadata": {
        "colab": {
          "base_uri": "https://localhost:8080/",
          "height": 222
        },
        "id": "_o2pbXQDxand",
        "outputId": "c407d9ff-ee54-4f21-84df-c8872536b519"
      },
      "outputs": [
        {
          "output_type": "execute_result",
          "data": {
            "text/plain": [
              "pydicom.dataset.FileDataset"
            ],
            "text/html": [
              "<div style=\"max-width:800px; border: 1px solid var(--colab-border-color);\"><style>\n",
              "      pre.function-repr-contents {\n",
              "        overflow-x: auto;\n",
              "        padding: 8px 12px;\n",
              "        max-height: 500px;\n",
              "      }\n",
              "\n",
              "      pre.function-repr-contents.function-repr-contents-collapsed {\n",
              "        cursor: pointer;\n",
              "        max-height: 100px;\n",
              "      }\n",
              "    </style>\n",
              "    <pre style=\"white-space: initial; background:\n",
              "         var(--colab-secondary-surface-color); padding: 8px 12px;\n",
              "         border-bottom: 1px solid var(--colab-border-color);\"><b>pydicom.dataset.FileDataset</b><br/>def __init__(filename_or_obj: PathType | BinaryIO | ReadableBuffer, dataset: _DatasetType, preamble: bytes | None=None, file_meta: &#x27;FileMetaDataset | None&#x27;=None, is_implicit_VR: bool=True, is_little_endian: bool=True) -&gt; None</pre><pre class=\"function-repr-contents function-repr-contents-collapsed\" style=\"\"><a class=\"filepath\" style=\"display:none\" href=\"#\">/usr/local/lib/python3.10/dist-packages/pydicom/dataset.py</a>An extension of :class:`Dataset` to make reading and writing to\n",
              "file-like easier.\n",
              "\n",
              ".. versionchanged:: 3.0\n",
              "\n",
              "    Added the `buffer` attribute and the `filename` attribute has been changed to\n",
              "    only contain the filename the dataset was read from (if any).\n",
              "\n",
              "Attributes\n",
              "----------\n",
              "preamble : str | bytes | None\n",
              "    The optional DICOM preamble prepended to the :class:`FileDataset`, if\n",
              "    available.\n",
              "file_meta : FileMetaDataset | None\n",
              "    The Dataset&#x27;s file meta information as a :class:`FileMetaDataset`, if\n",
              "    available (``None`` if not present). Consists of group ``0x0002`` elements.\n",
              "filename : str | None\n",
              "    The filename associated with the :class:`FileDataset` if read from\n",
              "    a file or file-like, or ``None`` if the dataset has been read from a\n",
              "    buffer-like object.\n",
              "buffer : ReadableBuffer | None\n",
              "    The buffer-like object the :class:`FileDataset` was read from, or\n",
              "    ``None`` if the dataset has been read from a file or file-like.\n",
              "fileobj_type\n",
              "    The type of object the :class:`FileDataset` was read from.\n",
              "timestamp : float | None\n",
              "    The modification time of the file the :class:`FileDataset` was read\n",
              "    from, ``None`` if the modification time is not available.</pre>\n",
              "      <script>\n",
              "      if (google.colab.kernel.accessAllowed && google.colab.files && google.colab.files.view) {\n",
              "        for (const element of document.querySelectorAll('.filepath')) {\n",
              "          element.style.display = 'block'\n",
              "          element.onclick = (event) => {\n",
              "            event.preventDefault();\n",
              "            event.stopPropagation();\n",
              "            google.colab.files.view(element.textContent, 3304);\n",
              "          };\n",
              "        }\n",
              "      }\n",
              "      for (const element of document.querySelectorAll('.function-repr-contents')) {\n",
              "        element.onclick = (event) => {\n",
              "          event.preventDefault();\n",
              "          event.stopPropagation();\n",
              "          element.classList.toggle('function-repr-contents-collapsed');\n",
              "        };\n",
              "      }\n",
              "      </script>\n",
              "      </div>"
            ]
          },
          "metadata": {},
          "execution_count": 26
        }
      ],
      "source": [
        "type(ds)\n"
      ]
    },
    {
      "cell_type": "code",
      "execution_count": 27,
      "metadata": {
        "colab": {
          "base_uri": "https://localhost:8080/"
        },
        "id": "I9uoVuAnxand",
        "outputId": "07d9dd05-8a16-422c-ec15-92a5b02b3713"
      },
      "outputs": [
        {
          "output_type": "execute_result",
          "data": {
            "text/plain": [
              "(0010,0010) Patient's Name                      PN: 'XYZ'"
            ]
          },
          "metadata": {},
          "execution_count": 27
        }
      ],
      "source": [
        "ds[0x0010,0x0010]"
      ]
    },
    {
      "cell_type": "code",
      "execution_count": 28,
      "metadata": {
        "id": "fNpM-x77xand"
      },
      "outputs": [],
      "source": [
        "# changing patient name"
      ]
    },
    {
      "cell_type": "code",
      "execution_count": 29,
      "metadata": {
        "id": "nio7QZsZxand"
      },
      "outputs": [],
      "source": [
        "ds[0x0010,0x0010].value=\"abdeen\""
      ]
    },
    {
      "cell_type": "code",
      "execution_count": 30,
      "metadata": {
        "colab": {
          "base_uri": "https://localhost:8080/"
        },
        "id": "RyzedUVExand",
        "outputId": "4dc08798-29f3-4546-e37f-80ffcfa03eec"
      },
      "outputs": [
        {
          "output_type": "execute_result",
          "data": {
            "text/plain": [
              "(0010,0010) Patient's Name                      PN: 'abdeen'"
            ]
          },
          "metadata": {},
          "execution_count": 30
        }
      ],
      "source": [
        "ds[0x0010,0x0010]"
      ]
    },
    {
      "cell_type": "code",
      "execution_count": 31,
      "metadata": {
        "colab": {
          "base_uri": "https://localhost:8080/"
        },
        "id": "-eUyXkQmxand",
        "outputId": "ea31efb1-baa8-47ac-8ca5-8844b8a465e0"
      },
      "outputs": [
        {
          "output_type": "execute_result",
          "data": {
            "text/plain": [
              "(0010,0020) Patient ID                          LO: '1744'"
            ]
          },
          "metadata": {},
          "execution_count": 31
        }
      ],
      "source": [
        "ds[0x0010,0x0020]"
      ]
    },
    {
      "cell_type": "code",
      "execution_count": 32,
      "metadata": {
        "id": "fnQ47ZQVxane"
      },
      "outputs": [],
      "source": [
        "ds[0x0010,0x0020].value=\"19106051\""
      ]
    },
    {
      "cell_type": "code",
      "execution_count": 33,
      "metadata": {
        "colab": {
          "base_uri": "https://localhost:8080/"
        },
        "id": "qmCnwgtmxane",
        "outputId": "e8ba56fa-f915-4f3c-99c6-b874996e931d"
      },
      "outputs": [
        {
          "output_type": "execute_result",
          "data": {
            "text/plain": [
              "(0010,0020) Patient ID                          LO: '19106051'"
            ]
          },
          "metadata": {},
          "execution_count": 33
        }
      ],
      "source": [
        "ds[0x0010,0x0020]"
      ]
    },
    {
      "cell_type": "code",
      "execution_count": 34,
      "metadata": {
        "colab": {
          "base_uri": "https://localhost:8080/"
        },
        "id": "tW9LnhO7xane",
        "outputId": "2971daac-5ef2-4f30-cbba-4f7efe001f17"
      },
      "outputs": [
        {
          "output_type": "execute_result",
          "data": {
            "text/plain": [
              "(0008,0060) Modality                            CS: 'CR'"
            ]
          },
          "metadata": {},
          "execution_count": 34
        }
      ],
      "source": [
        "ds[0x0008,0x0060]"
      ]
    },
    {
      "cell_type": "code",
      "execution_count": 35,
      "metadata": {
        "colab": {
          "base_uri": "https://localhost:8080/"
        },
        "id": "hL4ZcVE8xane",
        "outputId": "933baf73-001e-449e-dbf3-b9b69802837a"
      },
      "outputs": [
        {
          "output_type": "execute_result",
          "data": {
            "text/plain": [
              "(0008,0070) Manufacturer                        LO: 'FUJI PHOTO FILM Co., ltd.'"
            ]
          },
          "metadata": {},
          "execution_count": 35
        }
      ],
      "source": [
        "ds[0x0008,0x0070]"
      ]
    },
    {
      "cell_type": "code",
      "execution_count": 36,
      "metadata": {
        "colab": {
          "base_uri": "https://localhost:8080/"
        },
        "id": "rCRfUmj7xane",
        "outputId": "b20c3535-45bf-49ac-d8e4-f82874d3368b"
      },
      "outputs": [
        {
          "output_type": "execute_result",
          "data": {
            "text/plain": [
              "(0008,1050) Performing Physician's Name         PN: 'Administrator=???'"
            ]
          },
          "metadata": {},
          "execution_count": 36
        }
      ],
      "source": [
        "ds[0x0008,0x1050]"
      ]
    },
    {
      "cell_type": "code",
      "execution_count": 37,
      "metadata": {
        "id": "YEefFfdmxane"
      },
      "outputs": [],
      "source": [
        "#changing pysician's name"
      ]
    },
    {
      "cell_type": "code",
      "execution_count": 38,
      "metadata": {
        "id": "FMUYoqPgxane"
      },
      "outputs": [],
      "source": [
        "ds[0x0008,0x1050].value=\"mohammed\""
      ]
    },
    {
      "cell_type": "code",
      "execution_count": 39,
      "metadata": {
        "colab": {
          "base_uri": "https://localhost:8080/"
        },
        "id": "piXrxRpexane",
        "outputId": "818594ad-ca8e-4c46-87e0-bb73bd5d50ff"
      },
      "outputs": [
        {
          "output_type": "execute_result",
          "data": {
            "text/plain": [
              "(0008,1050) Performing Physician's Name         PN: 'mohammed'"
            ]
          },
          "metadata": {},
          "execution_count": 39
        }
      ],
      "source": [
        "ds[0x0008,0x1050]"
      ]
    },
    {
      "cell_type": "code",
      "execution_count": 40,
      "metadata": {
        "colab": {
          "base_uri": "https://localhost:8080/"
        },
        "id": "wwxDAj0sxane",
        "outputId": "fd550616-c126-476c-e563-9a11d12d53c7"
      },
      "outputs": [
        {
          "output_type": "execute_result",
          "data": {
            "text/plain": [
              "(0008,0020) Study Date                          DA: '20210226'"
            ]
          },
          "metadata": {},
          "execution_count": 40
        }
      ],
      "source": [
        "ds[0x0008,0x0020]"
      ]
    },
    {
      "cell_type": "code",
      "execution_count": 41,
      "metadata": {
        "id": "mqe_ARLQxanf"
      },
      "outputs": [],
      "source": [
        "#reshaping date"
      ]
    },
    {
      "cell_type": "code",
      "execution_count": 42,
      "metadata": {
        "colab": {
          "base_uri": "https://localhost:8080/"
        },
        "id": "0zias1dYxanf",
        "outputId": "d5c56bae-ff82-4c9a-c19a-eb9b6173621a"
      },
      "outputs": [
        {
          "output_type": "stream",
          "name": "stderr",
          "text": [
            "WARNING:pydicom:Invalid value for VR DA: '2021/02/26'.\n",
            "/usr/local/lib/python3.10/dist-packages/pydicom/valuerep.py:440: UserWarning: Invalid value for VR DA: '2021/02/26'.\n",
            "  warn_and_log(msg)\n"
          ]
        }
      ],
      "source": [
        "ds[0x0008,0x0020].value=\"2021/02/26\""
      ]
    },
    {
      "cell_type": "code",
      "execution_count": 43,
      "metadata": {
        "colab": {
          "base_uri": "https://localhost:8080/"
        },
        "id": "fcuUsRCaxanf",
        "outputId": "92e2ed68-a02c-4f78-af43-cc71fdcb34fd"
      },
      "outputs": [
        {
          "output_type": "execute_result",
          "data": {
            "text/plain": [
              "(0008,0020) Study Date                          DA: '2021/02/26'"
            ]
          },
          "metadata": {},
          "execution_count": 43
        }
      ],
      "source": [
        "ds[0x0008,0x0020]"
      ]
    },
    {
      "cell_type": "code",
      "execution_count": 44,
      "metadata": {
        "colab": {
          "base_uri": "https://localhost:8080/"
        },
        "id": "UZAUzwT_xanf",
        "outputId": "0d5abc21-58c5-4950-9e8e-40188bc2a636"
      },
      "outputs": [
        {
          "output_type": "stream",
          "name": "stderr",
          "text": [
            "WARNING:pydicom:Invalid value for VR DA: '2021/02/26'.\n"
          ]
        }
      ],
      "source": [
        "ds[0x0032,0x0032].value=\"2021/02/26\""
      ]
    },
    {
      "cell_type": "code",
      "execution_count": 45,
      "metadata": {
        "colab": {
          "base_uri": "https://localhost:8080/"
        },
        "id": "-nX0KKiUxanf",
        "outputId": "aa584331-36a1-49b4-d046-6f9d28a8c0bd"
      },
      "outputs": [
        {
          "output_type": "execute_result",
          "data": {
            "text/plain": [
              "(0032,0032) Study Verified Date                 DA: '2021/02/26'"
            ]
          },
          "metadata": {},
          "execution_count": 45
        }
      ],
      "source": [
        "ds[0x0032,0x0032]"
      ]
    },
    {
      "cell_type": "code",
      "execution_count": 53,
      "metadata": {
        "colab": {
          "base_uri": "https://localhost:8080/"
        },
        "id": "BVDl_VV3xanf",
        "outputId": "2ea9a7d4-2ff4-46ff-f491-0b444de80387"
      },
      "outputs": [
        {
          "output_type": "execute_result",
          "data": {
            "text/plain": [
              "(0008,2111) Derivation Description              ST: 'G1.2O#0.90+0.43,MCP1.8AM0.4,C*1.0*1.0'"
            ]
          },
          "metadata": {},
          "execution_count": 53
        }
      ],
      "source": [
        "ds[0x0008,0x2111]"
      ]
    },
    {
      "cell_type": "code",
      "execution_count": 54,
      "metadata": {
        "colab": {
          "base_uri": "https://localhost:8080/"
        },
        "id": "ouTvgnRSxanf",
        "outputId": "70c2f834-c7a5-4bd4-c131-6763832b5406"
      },
      "outputs": [
        {
          "output_type": "execute_result",
          "data": {
            "text/plain": [
              "(0029,1030) [Extended Reading Size Value]       CS: '04'"
            ]
          },
          "metadata": {},
          "execution_count": 54
        }
      ],
      "source": [
        "ds[0x0029,0x1030]"
      ]
    },
    {
      "cell_type": "code",
      "execution_count": 55,
      "metadata": {
        "colab": {
          "base_uri": "https://localhost:8080/"
        },
        "id": "v3M7ZcMdxanf",
        "outputId": "f0278812-16cd-41ba-fa85-bcb24e9a6d29"
      },
      "outputs": [
        {
          "output_type": "execute_result",
          "data": {
            "text/plain": [
              "(2010,0040) Film Orientation                    CS: 'LANDSCAPE'"
            ]
          },
          "metadata": {},
          "execution_count": 55
        }
      ],
      "source": [
        "ds[0x2010,0x0040]"
      ]
    },
    {
      "cell_type": "code",
      "execution_count": 56,
      "metadata": {
        "colab": {
          "base_uri": "https://localhost:8080/"
        },
        "id": "ehgBXrHuxang",
        "outputId": "f79d2373-cd92-44ce-ecb3-2f30f0edae3c"
      },
      "outputs": [
        {
          "output_type": "execute_result",
          "data": {
            "text/plain": [
              "(0028,0002) Samples per Pixel                   US: 1"
            ]
          },
          "metadata": {},
          "execution_count": 56
        }
      ],
      "source": [
        "ds[0x0028,0x0002]"
      ]
    },
    {
      "cell_type": "code",
      "execution_count": 57,
      "metadata": {
        "colab": {
          "base_uri": "https://localhost:8080/"
        },
        "id": "kwTBTdKHxang",
        "outputId": "8785a7b3-9932-43c8-c5d5-df537e25466a"
      },
      "outputs": [
        {
          "output_type": "execute_result",
          "data": {
            "text/plain": [
              "(0028,0030) Pixel Spacing                       DS: [0.20, 0.20]"
            ]
          },
          "metadata": {},
          "execution_count": 57
        }
      ],
      "source": [
        "ds[0x0028,0x0030]"
      ]
    },
    {
      "cell_type": "code",
      "execution_count": 58,
      "metadata": {
        "colab": {
          "base_uri": "https://localhost:8080/"
        },
        "id": "ts8KfvGqxang",
        "outputId": "79dba2eb-e1c1-43e1-c773-47e013553e81"
      },
      "outputs": [
        {
          "output_type": "execute_result",
          "data": {
            "text/plain": [
              "((0028,0010) Rows                                US: 2140,\n",
              " (0028,0011) Columns                             US: 1760)"
            ]
          },
          "metadata": {},
          "execution_count": 58
        }
      ],
      "source": [
        "ds[0x0028,0x0010],ds[0x0028,0x0011]"
      ]
    },
    {
      "cell_type": "code",
      "execution_count": 59,
      "metadata": {
        "id": "RLT_y_oBxang"
      },
      "outputs": [],
      "source": [
        "import matplotlib.pyplot as plt"
      ]
    },
    {
      "cell_type": "code",
      "execution_count": 60,
      "metadata": {
        "colab": {
          "base_uri": "https://localhost:8080/",
          "height": 452
        },
        "id": "pXvAprcKxang",
        "outputId": "fc442163-c669-4046-fd82-8d4ea62c4091"
      },
      "outputs": [
        {
          "output_type": "execute_result",
          "data": {
            "text/plain": [
              "<matplotlib.image.AxesImage at 0x7efec74c1840>"
            ]
          },
          "metadata": {},
          "execution_count": 60
        },
        {
          "output_type": "display_data",
          "data": {
            "text/plain": [
              "<Figure size 640x480 with 1 Axes>"
            ],
            "image/png": "[encoded data removed]"
          },
          "metadata": {}
        }
      ],
      "source": [
        "plt.imshow(ds.pixel_array,cmap='bone')"
      ]
    },
    {
      "cell_type": "code",
      "execution_count": 61,
      "metadata": {
        "colab": {
          "base_uri": "https://localhost:8080/"
        },
        "id": "gIWHDixFxang",
        "outputId": "72248740-7f21-4b6c-cae3-c7510c333d00"
      },
      "outputs": [
        {
          "output_type": "stream",
          "name": "stdout",
          "text": [
            "Requirement already satisfied: pillow in /usr/local/lib/python3.10/dist-packages (11.0.0)\n"
          ]
        }
      ],
      "source": [
        "pip install pillow\n"
      ]
    },
    {
      "cell_type": "code",
      "execution_count": 62,
      "metadata": {
        "id": "5gUgTqGLxank"
      },
      "outputs": [],
      "source": [
        "from PIL import Image\n",
        "\n"
      ]
    },
    {
      "cell_type": "code",
      "execution_count": 63,
      "metadata": {
        "colab": {
          "base_uri": "https://localhost:8080/"
        },
        "id": "0BYz1rRHxank",
        "outputId": "bcc166b2-a315-414a-9b4b-b40f82eea777"
      },
      "outputs": [
        {
          "output_type": "stream",
          "name": "stdout",
          "text": [
            "Requirement already satisfied: numpy in /usr/local/lib/python3.10/dist-packages (1.26.4)\n"
          ]
        }
      ],
      "source": [
        "pip install numpy"
      ]
    },
    {
      "cell_type": "code",
      "execution_count": 64,
      "metadata": {
        "id": "i-KOzoUZxank"
      },
      "outputs": [],
      "source": [
        "import numpy as np"
      ]
    },
    {
      "cell_type": "code",
      "execution_count": 65,
      "metadata": {
        "id": "pk9zQucKxanl"
      },
      "outputs": [],
      "source": [
        "#now extracting the pixels from file and turn type to float so we don't lose information"
      ]
    },
    {
      "cell_type": "code",
      "execution_count": 66,
      "metadata": {
        "id": "_mQJgsrkxanl"
      },
      "outputs": [],
      "source": [
        "image=ds.pixel_array.astype(float)"
      ]
    },
    {
      "cell_type": "code",
      "execution_count": 67,
      "metadata": {
        "id": "uDQqgBS0xanl"
      },
      "outputs": [],
      "source": [
        "#change the size into 0,255"
      ]
    },
    {
      "cell_type": "code",
      "execution_count": 83,
      "metadata": {
        "id": "XQJx_vSfxanl"
      },
      "outputs": [],
      "source": [
        "image2=(np.maximum(image,0)/image.max()) *255.0"
      ]
    },
    {
      "cell_type": "code",
      "execution_count": 84,
      "metadata": {
        "id": "a9SeIpEXxanl"
      },
      "outputs": [],
      "source": [
        "#changing image to 8 bits unsigned integer"
      ]
    },
    {
      "cell_type": "code",
      "execution_count": 85,
      "metadata": {
        "id": "Q3ymqj6Mxanl"
      },
      "outputs": [],
      "source": [
        "image2=np.uint8(image2)"
      ]
    },
    {
      "cell_type": "code",
      "execution_count": 86,
      "metadata": {
        "id": "oLA2akzoxanl"
      },
      "outputs": [],
      "source": [
        "# creating image fromm array"
      ]
    },
    {
      "cell_type": "code",
      "execution_count": 87,
      "metadata": {
        "id": "bXE3JeyTxanl"
      },
      "outputs": [],
      "source": [
        "image3=Image.fromarray(image2)"
      ]
    },
    {
      "cell_type": "code",
      "execution_count": 88,
      "metadata": {
        "id": "1buTVU1Zxanl"
      },
      "outputs": [],
      "source": [
        "# show image"
      ]
    },
    {
      "cell_type": "code",
      "execution_count": 89,
      "metadata": {
        "id": "wOvJEbplxanl"
      },
      "outputs": [],
      "source": [
        "image3.show()"
      ]
    },
    {
      "cell_type": "code",
      "execution_count": 90,
      "metadata": {
        "id": "GyjWbLEcxanl"
      },
      "outputs": [],
      "source": [
        "#save image as jpg"
      ]
    },
    {
      "cell_type": "code",
      "execution_count": 91,
      "metadata": {
        "id": "OfJ_SNE_xanm"
      },
      "outputs": [],
      "source": [
        "image3.save('00000002.jpg')"
      ]
    },
    {
      "cell_type": "code",
      "execution_count": 92,
      "metadata": {
        "id": "sXMpjvjLxanm"
      },
      "outputs": [],
      "source": [
        "#save image as png"
      ]
    },
    {
      "cell_type": "code",
      "execution_count": 93,
      "metadata": {
        "id": "hGgx2ItDxanm"
      },
      "outputs": [],
      "source": [
        "image3.save('00000002.png')"
      ]
    }
  ],
  "metadata": {
    "kernelspec": {
      "display_name": "Python 3",
      "language": "python",
      "name": "python3"
    },
    "language_info": {
      "codemirror_mode": {
        "name": "ipython",
        "version": 3
      },
      "file_extension": ".py",
      "mimetype": "text/x-python",
      "name": "python",
      "nbconvert_exporter": "python",
      "pygments_lexer": "ipython3",
      "version": "3.8.5"
    },
    "colab": {
      "provenance": []
    }
  },
  "nbformat": 4,
  "nbformat_minor": 0
}